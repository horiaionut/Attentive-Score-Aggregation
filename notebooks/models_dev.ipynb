{
 "cells": [
  {
   "attachments": {},
   "cell_type": "markdown",
   "metadata": {},
   "source": [
    "# Training"
   ]
  },
  {
   "cell_type": "code",
   "execution_count": 1,
   "metadata": {},
   "outputs": [],
   "source": [
    "import sys, os\n",
    "sys.path.insert(0, os.path.dirname(os.path.abspath('..')))"
   ]
  },
  {
   "cell_type": "code",
   "execution_count": 2,
   "metadata": {},
   "outputs": [
    {
     "name": "stderr",
     "output_type": "stream",
     "text": [
      "/Users/horia/opt/anaconda3/envs/ara-dev/lib/python3.7/site-packages/tqdm/auto.py:22: TqdmWarning: IProgress not found. Please update jupyter and ipywidgets. See https://ipywidgets.readthedocs.io/en/stable/user_install.html\n",
      "  from .autonotebook import tqdm as notebook_tqdm\n"
     ]
    },
    {
     "name": "stdout",
     "output_type": "stream",
     "text": [
      "cpu\n"
     ]
    }
   ],
   "source": [
    "import numpy as np\n",
    "import torch\n",
    "import pytorch_lightning as pl\n",
    "import pandas as pd\n",
    "\n",
    "from torch import nn\n",
    "\n",
    "from ara.src.datasets import RatingDataset\n",
    "from ara.src.models import AGREELikeWeighingStaticEmbeds, AGREELikeWighingWithEncoder\n",
    "from ara.src.models import MoSANLikeWeighing\n",
    "\n",
    "device = torch.device(\"cuda:0\" if torch.cuda.is_available() else \"cpu\")\n",
    "print(device)"
   ]
  },
  {
   "attachments": {},
   "cell_type": "markdown",
   "metadata": {},
   "source": [
    "## Synthetic Movie Dataset"
   ]
  },
  {
   "cell_type": "code",
   "execution_count": 3,
   "metadata": {},
   "outputs": [],
   "source": [
    "train_dataloader = torch.utils.data.DataLoader(RatingDataset('../data/synthetic_dataset/train.csv'), batch_size=1024)\n",
    "val_dataloader   = torch.utils.data.DataLoader(RatingDataset('../data/synthetic_dataset/val.csv'), batch_size=1024)\n",
    "test_dataloader  = torch.utils.data.DataLoader(RatingDataset('../data/synthetic_dataset/test.csv'), batch_size=1024)\n",
    "\n",
    "group_infos = pd.read_pickle('../data/synthetic_dataset/raw/group_info.pkl')\n",
    "user_ratings = torch.tensor(np.load('../data/synthetic_dataset/raw/user_ratings.npy')).float()"
   ]
  },
  {
   "cell_type": "code",
   "execution_count": 4,
   "metadata": {},
   "outputs": [],
   "source": [
    "def train(model, name, version, train_dataloader, val_dataloader):\n",
    "    checkpoint = pl.callbacks.ModelCheckpoint(dirpath='../logs/saved_models/' + name, filename='{val_loss:.5f}', monitor='val_loss')\n",
    "\n",
    "    early_stopping = pl.callbacks.early_stopping.EarlyStopping(monitor='val_loss', mode=\"min\", patience=2, min_delta=0.001)\n",
    "\n",
    "    lr_monitor = pl.callbacks.LearningRateMonitor()\n",
    "\n",
    "    logger = pl.loggers.tensorboard.TensorBoardLogger(\"../logs/tensorboard\", version=version, name=name)\n",
    "    \n",
    "    trainer = pl.Trainer(\n",
    "        logger=logger, \n",
    "        max_epochs=5,\n",
    "        val_check_interval=800,\n",
    "        callbacks=[checkpoint, lr_monitor, early_stopping]\n",
    "    )\n",
    "\n",
    "    trainer.fit(model=model, train_dataloaders=train_dataloader, val_dataloaders=val_dataloader)"
   ]
  },
  {
   "attachments": {},
   "cell_type": "markdown",
   "metadata": {},
   "source": [
    "### AGREE-like weighing static Embeddings"
   ]
  },
  {
   "cell_type": "code",
   "execution_count": 13,
   "metadata": {},
   "outputs": [
    {
     "name": "stderr",
     "output_type": "stream",
     "text": [
      "GPU available: False, used: False\n",
      "TPU available: False, using: 0 TPU cores\n",
      "IPU available: False, using: 0 IPUs\n",
      "HPU available: False, using: 0 HPUs\n",
      "/Users/horia/opt/anaconda3/envs/ara-dev/lib/python3.7/site-packages/pytorch_lightning/callbacks/model_checkpoint.py:604: UserWarning: Checkpoint directory /Users/horia/Desktop/tum/Seminar/ara/logs/saved_models/agree/static exists and is not empty.\n",
      "  rank_zero_warn(f\"Checkpoint directory {dirpath} exists and is not empty.\")\n",
      "\n",
      "  | Name        | Type           | Params\n",
      "-----------------------------------------------\n",
      "0 | user_embeds | Embedding      | 64.0 K\n",
      "1 | item_embeds | Embedding      | 320 K \n",
      "2 | attention   | AttentionLayer | 8.3 K \n",
      "-----------------------------------------------\n",
      "392 K     Trainable params\n",
      "0         Non-trainable params\n",
      "392 K     Total params\n",
      "1.571     Total estimated model params size (MB)\n"
     ]
    },
    {
     "name": "stdout",
     "output_type": "stream",
     "text": [
      "Sanity Checking DataLoader 0:  50%|█████     | 1/2 [00:00<00:00,  6.49it/s]"
     ]
    },
    {
     "name": "stderr",
     "output_type": "stream",
     "text": [
      "/Users/horia/opt/anaconda3/envs/ara-dev/lib/python3.7/site-packages/pytorch_lightning/trainer/connectors/data_connector.py:229: PossibleUserWarning: The dataloader, val_dataloader 0, does not have many workers which may be a bottleneck. Consider increasing the value of the `num_workers` argument` (try 16 which is the number of cpus on this machine) in the `DataLoader` init to improve performance.\n",
      "  category=PossibleUserWarning,\n"
     ]
    },
    {
     "name": "stdout",
     "output_type": "stream",
     "text": [
      "                                                                           "
     ]
    },
    {
     "name": "stderr",
     "output_type": "stream",
     "text": [
      "/Users/horia/opt/anaconda3/envs/ara-dev/lib/python3.7/site-packages/pytorch_lightning/trainer/connectors/data_connector.py:229: PossibleUserWarning: The dataloader, train_dataloader, does not have many workers which may be a bottleneck. Consider increasing the value of the `num_workers` argument` (try 16 which is the number of cpus on this machine) in the `DataLoader` init to improve performance.\n",
      "  category=PossibleUserWarning,\n"
     ]
    },
    {
     "name": "stdout",
     "output_type": "stream",
     "text": [
      "Epoch 2:  93%|█████████▎| 2040/2198 [16:08<01:14,  2.11it/s, loss=0.00279, v_num=64, train_loss=0.00286, val_loss=0.00282]\n"
     ]
    }
   ],
   "source": [
    "config = {\n",
    "    'user_embed_dim': 64,\n",
    "    'item_embed_dim': 64,\n",
    "    'hidden_dim': 64,\n",
    "    'weight_decay': 0,\n",
    "    'lr': 1e-2,\n",
    "    'lr_reduction_patience': 1000,\n",
    "    'lr_reduction_factor': 0.5,\n",
    "    'lr_reduction_threshold': 1e-3,\n",
    "    'lr_reduction_cooldown': 200,\n",
    "    'device': device\n",
    "}\n",
    "\n",
    "# model = AGREELikeWeighingStaticEmbeds.load_from_checkpoint('../logs/saved_models/agree/size=64, val_loss=0.00258.ckpt', config=config, user_ratings=user_ratings, users_by_group=group_infos['users'].values)\n",
    "model = AGREELikeWeighingStaticEmbeds(config, user_ratings, group_infos['users'].values)\n",
    "train(model, 'agree/static', 64, train_dataloader, val_dataloader)"
   ]
  },
  {
   "attachments": {},
   "cell_type": "markdown",
   "metadata": {},
   "source": [
    "### AGREE-like weighing with Encoder"
   ]
  },
  {
   "cell_type": "code",
   "execution_count": 5,
   "metadata": {},
   "outputs": [
    {
     "name": "stderr",
     "output_type": "stream",
     "text": [
      "/Users/horia/opt/anaconda3/envs/ara-dev/lib/python3.7/site-packages/pytorch_lightning/utilities/parsing.py:263: UserWarning: Attribute 'user_embeds' is an instance of `nn.Module` and is already saved during checkpointing. It is recommended to ignore them using `self.save_hyperparameters(ignore=['user_embeds'])`.\n",
      "  f\"Attribute {k!r} is an instance of `nn.Module` and is already saved during checkpointing.\"\n",
      "/Users/horia/opt/anaconda3/envs/ara-dev/lib/python3.7/site-packages/pytorch_lightning/utilities/parsing.py:263: UserWarning: Attribute 'item_embeds' is an instance of `nn.Module` and is already saved during checkpointing. It is recommended to ignore them using `self.save_hyperparameters(ignore=['item_embeds'])`.\n",
      "  f\"Attribute {k!r} is an instance of `nn.Module` and is already saved during checkpointing.\"\n",
      "GPU available: False, used: False\n",
      "TPU available: False, using: 0 TPU cores\n",
      "IPU available: False, using: 0 IPUs\n",
      "HPU available: False, using: 0 HPUs\n",
      "/Users/horia/opt/anaconda3/envs/ara-dev/lib/python3.7/site-packages/pytorch_lightning/callbacks/model_checkpoint.py:604: UserWarning: Checkpoint directory /Users/horia/Desktop/tum/Seminar/ara/logs/saved_models/agree/encoder exists and is not empty.\n",
      "  rank_zero_warn(f\"Checkpoint directory {dirpath} exists and is not empty.\")\n",
      "\n",
      "  | Name        | Type           | Params\n",
      "-----------------------------------------------\n",
      "0 | user_embeds | Encoder        | 5.4 M \n",
      "1 | item_embeds | Encoder        | 1.3 M \n",
      "2 | attention   | AttentionLayer | 8.3 K \n",
      "-----------------------------------------------\n",
      "6.7 M     Trainable params\n",
      "0         Non-trainable params\n",
      "6.7 M     Total params\n",
      "26.850    Total estimated model params size (MB)\n"
     ]
    },
    {
     "name": "stdout",
     "output_type": "stream",
     "text": [
      "Sanity Checking DataLoader 0:   0%|          | 0/2 [00:00<?, ?it/s]"
     ]
    },
    {
     "name": "stderr",
     "output_type": "stream",
     "text": [
      "/Users/horia/opt/anaconda3/envs/ara-dev/lib/python3.7/site-packages/pytorch_lightning/trainer/connectors/data_connector.py:229: PossibleUserWarning: The dataloader, val_dataloader 0, does not have many workers which may be a bottleneck. Consider increasing the value of the `num_workers` argument` (try 16 which is the number of cpus on this machine) in the `DataLoader` init to improve performance.\n",
      "  category=PossibleUserWarning,\n"
     ]
    },
    {
     "name": "stdout",
     "output_type": "stream",
     "text": [
      "                                                                           "
     ]
    },
    {
     "name": "stderr",
     "output_type": "stream",
     "text": [
      "/Users/horia/opt/anaconda3/envs/ara-dev/lib/python3.7/site-packages/pytorch_lightning/trainer/connectors/data_connector.py:229: PossibleUserWarning: The dataloader, train_dataloader, does not have many workers which may be a bottleneck. Consider increasing the value of the `num_workers` argument` (try 16 which is the number of cpus on this machine) in the `DataLoader` init to improve performance.\n",
      "  category=PossibleUserWarning,\n"
     ]
    },
    {
     "name": "stdout",
     "output_type": "stream",
     "text": [
      "Epoch 0:   7%|▋         | 155/2198 [42:16<9:17:09, 16.36s/it, loss=0.0506, v_num=64, train_loss=0.048] "
     ]
    },
    {
     "name": "stderr",
     "output_type": "stream",
     "text": [
      "/Users/horia/opt/anaconda3/envs/ara-dev/lib/python3.7/site-packages/pytorch_lightning/trainer/call.py:48: UserWarning: Detected KeyboardInterrupt, attempting graceful shutdown...\n",
      "  rank_zero_warn(\"Detected KeyboardInterrupt, attempting graceful shutdown...\")\n"
     ]
    }
   ],
   "source": [
    "config = {\n",
    "    'user_embed_dim': 64,\n",
    "    'item_embed_dim': 64,\n",
    "    'hidden_dim': 64,\n",
    "    'weight_decay': 0,\n",
    "    'lr': 1e-2,\n",
    "    'lr_reduction_patience': 100,\n",
    "    'lr_reduction_factor': 0.5,\n",
    "    'lr_reduction_threshold': 1e-4,\n",
    "    'lr_reduction_cooldown': 20,\n",
    "    'device': device\n",
    "}\n",
    "\n",
    "# model = AGREELikeWeighingStaticEmbeds.load_from_checkpoint('../logs/saved_models/agree/size=64, val_loss=0.00258.ckpt', config=config, user_ratings=user_ratings, users_by_group=group_infos['users'].values)\n",
    "model = AGREELikeWighingWithEncoder(config, user_ratings, group_infos['users'].values)\n",
    "train(model, 'agree/encoder', 64, train_dataloader, val_dataloader)"
   ]
  },
  {
   "attachments": {},
   "cell_type": "markdown",
   "metadata": {},
   "source": [
    "### MoSAN-like weighing"
   ]
  },
  {
   "cell_type": "code",
   "execution_count": null,
   "metadata": {},
   "outputs": [],
   "source": [
    "config = {\n",
    "    'context_embed_dim': 64,\n",
    "    'user_embed_dim': 64,\n",
    "    'item_embed_dim': 64,\n",
    "    'hidden_dim': 64,\n",
    "    'weight_decay': 0,\n",
    "    'lr': 1e-2,\n",
    "    'lr_reduction_patience': 100,\n",
    "    'lr_reduction_factor': 0.5,\n",
    "    'lr_reduction_threshold': 1e-3,\n",
    "    'lr_reduction_cooldown': 50,\n",
    "    'device': device\n",
    "}\n",
    "\n",
    "model = MoSANLikeWeighing(config, user_ratings, group_infos['users'].values)\n",
    "train(model, 'mosan', train_dataloader, val_dataloader=val_dataloader)"
   ]
  },
  {
   "attachments": {},
   "cell_type": "markdown",
   "metadata": {},
   "source": [
    "### Test"
   ]
  },
  {
   "cell_type": "code",
   "execution_count": 5,
   "metadata": {},
   "outputs": [
    {
     "name": "stderr",
     "output_type": "stream",
     "text": [
      "/Users/horia/opt/anaconda3/envs/ara-dev/lib/python3.7/site-packages/pytorch_lightning/utilities/parsing.py:263: UserWarning: Attribute 'user_embeds' is an instance of `nn.Module` and is already saved during checkpointing. It is recommended to ignore them using `self.save_hyperparameters(ignore=['user_embeds'])`.\n",
      "  f\"Attribute {k!r} is an instance of `nn.Module` and is already saved during checkpointing.\"\n",
      "/Users/horia/opt/anaconda3/envs/ara-dev/lib/python3.7/site-packages/pytorch_lightning/utilities/parsing.py:263: UserWarning: Attribute 'item_embeds' is an instance of `nn.Module` and is already saved during checkpointing. It is recommended to ignore them using `self.save_hyperparameters(ignore=['item_embeds'])`.\n",
      "  f\"Attribute {k!r} is an instance of `nn.Module` and is already saved during checkpointing.\"\n",
      "GPU available: False, used: False\n",
      "TPU available: False, using: 0 TPU cores\n",
      "IPU available: False, using: 0 IPUs\n",
      "HPU available: False, using: 0 HPUs\n",
      "/Users/horia/opt/anaconda3/envs/ara-dev/lib/python3.7/site-packages/pytorch_lightning/trainer/connectors/data_connector.py:229: PossibleUserWarning: The dataloader, test_dataloader 0, does not have many workers which may be a bottleneck. Consider increasing the value of the `num_workers` argument` (try 16 which is the number of cpus on this machine) in the `DataLoader` init to improve performance.\n",
      "  category=PossibleUserWarning,\n"
     ]
    },
    {
     "name": "stdout",
     "output_type": "stream",
     "text": [
      "Testing DataLoader 0: 100%|██████████| 220/220 [05:18<00:00,  1.45s/it]\n",
      "────────────────────────────────────────────────────────────────────────────────────────────────────────────────────────\n",
      "       Test metric             DataLoader 0\n",
      "────────────────────────────────────────────────────────────────────────────────────────────────────────────────────────\n",
      "        test_loss          0.009736476466059685\n",
      "────────────────────────────────────────────────────────────────────────────────────────────────────────────────────────\n"
     ]
    },
    {
     "data": {
      "text/plain": [
       "[{'test_loss': 0.009736476466059685}]"
      ]
     },
     "execution_count": 5,
     "metadata": {},
     "output_type": "execute_result"
    }
   ],
   "source": [
    "checkpoint = \"../logs/saved_models/agree/encoder/size=32, val_loss=0.00971.ckpt\"\n",
    "model = AGREELikeWighingWithEncoder.load_from_checkpoint(checkpoint, user_ratings=user_ratings, users_by_groups=group_infos['users'].values)\n",
    "\n",
    "pl.Trainer().test(model, test_dataloader)"
   ]
  },
  {
   "cell_type": "code",
   "execution_count": null,
   "metadata": {},
   "outputs": [],
   "source": [
    "checkpoint = \"../logs/saved_models/mosan/size=16, val_loss=0.00648.ckpt\"\n",
    "model = MoSANLikeWeighing.load_from_checkpoint(checkpoint, user_ratings=user_ratings, users_by_groups=group_infos['users'].values)\n",
    "\n",
    "pl.Trainer().test(model, test_dataloader)"
   ]
  }
 ],
 "metadata": {
  "kernelspec": {
   "display_name": "ara-dev",
   "language": "python",
   "name": "python3"
  },
  "language_info": {
   "codemirror_mode": {
    "name": "ipython",
    "version": 3
   },
   "file_extension": ".py",
   "mimetype": "text/x-python",
   "name": "python",
   "nbconvert_exporter": "python",
   "pygments_lexer": "ipython3",
   "version": "3.7.12"
  },
  "orig_nbformat": 4,
  "vscode": {
   "interpreter": {
    "hash": "6c68587cfe7b5b43e3bec346f254c330ad1116fdf6bb00838eea339dccce3d1c"
   }
  }
 },
 "nbformat": 4,
 "nbformat_minor": 2
}
